{
 "cells": [
  {
   "cell_type": "code",
   "execution_count": 7,
   "metadata": {},
   "outputs": [
    {
     "name": "stdout",
     "output_type": "stream",
     "text": [
      "0eklendi : dizi boyutu : 1\n",
      "1eklendi : dizi boyutu : 2\n",
      "2eklendi : dizi boyutu : 4\n",
      "3eklendi : dizi boyutu : 4\n",
      "4eklendi : dizi boyutu : 8\n",
      "5eklendi : dizi boyutu : 8\n",
      "6eklendi : dizi boyutu : 8\n",
      "7eklendi : dizi boyutu : 8\n",
      "8eklendi : dizi boyutu : 16\n",
      "9eklendi : dizi boyutu : 16\n"
     ]
    }
   ],
   "source": [
    "c=DynamicArray()\n",
    "for i in range(10):\n",
    "    c.append(\" add an item \"+str(i))\n",
    "    print(str(i)+\"eklendi : dizi boyutu : \"+str(c.getLength()))\n",
    "    "
   ]
  },
  {
   "cell_type": "code",
   "execution_count": 1,
   "metadata": {
    "scrolled": true
   },
   "outputs": [
    {
     "name": "stdout",
     "output_type": "stream",
     "text": [
      "Collecting pympler\n",
      "Installing collected packages: pympler\n",
      "Successfully installed pympler-0.6\n"
     ]
    },
    {
     "name": "stderr",
     "output_type": "stream",
     "text": [
      "You are using pip version 9.0.1, however version 19.0.3 is available.\n",
      "You should consider upgrading via the 'python -m pip install --upgrade pip' command.\n"
     ]
    }
   ],
   "source": [
    "!pip install pympler\n",
    "\n"
   ]
  },
  {
   "cell_type": "code",
   "execution_count": 6,
   "metadata": {},
   "outputs": [],
   "source": [
    "import ctypes \n",
    "from pympler import asizeof \n",
    "\n",
    "class DynamicArray:\n",
    "    def __init__(self):\n",
    "        self._n = 0 # count actual elements\n",
    "        self._capacity = 1 # default array capacity\n",
    "        self._A = self._make_array(self._capacity) # low-level array\n",
    "\n",
    "    def __len__(self):\n",
    "        return self._n\n",
    "\n",
    "    def __getitem__(self, k):\n",
    "        if not 0 <= k < self._n:\n",
    "            raise IndexError( 'invalid index' )\n",
    "        return self._A[k] # retrieve from array\n",
    "\n",
    "    def append(self, obj):\n",
    "        if self._n == self._capacity: # not enough room\n",
    "            self._resize(2*self._capacity) # so double capacity\n",
    "        self._A[self._n] = obj\n",
    "        self._n += 1\n",
    "\n",
    "    def _resize(self, c): # nonpublic utitity\n",
    "        B = self._make_array(c) # new (bigger) array\n",
    "        for k in range(self._n): # for each existing value\n",
    "            B[k] = self._A[k]\n",
    "        self._A=B # use the bigger array\n",
    "        self._capacity = c\n",
    "\n",
    "    def _make_array(self, c): # nonpublic utitity\n",
    "        return (c*ctypes.py_object)( )\n",
    "    def getLength(self):\n",
    "        return self._capacity"
   ]
  },
  {
   "cell_type": "code",
   "execution_count": null,
   "metadata": {
    "collapsed": true
   },
   "outputs": [],
   "source": []
  }
 ],
 "metadata": {
  "anaconda-cloud": {},
  "kernelspec": {
   "display_name": "Python 3",
   "language": "python",
   "name": "python3"
  },
  "language_info": {
   "codemirror_mode": {
    "name": "ipython",
    "version": 3
   },
   "file_extension": ".py",
   "mimetype": "text/x-python",
   "name": "python",
   "nbconvert_exporter": "python",
   "pygments_lexer": "ipython3",
   "version": "3.6.7"
  }
 },
 "nbformat": 4,
 "nbformat_minor": 1
}
