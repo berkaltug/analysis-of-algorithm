{
 "cells": [
  {
   "cell_type": "code",
   "execution_count": 1,
   "metadata": {},
   "outputs": [],
   "source": [
    "#matrix_1 mxn\n",
    "#matrix_2 nxp\n",
    "#matrix_3 =matrix_1 x matrix_2 mxp\n"
   ]
  },
  {
   "cell_type": "code",
   "execution_count": 22,
   "metadata": {},
   "outputs": [
    {
     "data": {
      "text/plain": [
       "70"
      ]
     },
     "execution_count": 22,
     "metadata": {},
     "output_type": "execute_result"
    }
   ],
   "source": [
    "def get_value_from_row_col(r_1,c_1): # O(n) complexity\n",
    "    t=0\n",
    "    for i in range(len(r_1)):\n",
    "        t=t+r_1[i]*c_1[i]\n",
    "    return t\n",
    "\n",
    "a=[1,2,3,4]\n",
    "b=[5,6,7,8]\n",
    "\n",
    "get_value_from_row_col(a,b)"
   ]
  },
  {
   "cell_type": "code",
   "execution_count": 23,
   "metadata": {},
   "outputs": [],
   "source": [
    "z=[[1,2,3,4],[5,6,7,8],[1,2,3,4],[5,6,7,8]]\n",
    "v=[[1,2,3,4],[5,6,7,8]]"
   ]
  },
  {
   "cell_type": "code",
   "execution_count": 24,
   "metadata": {},
   "outputs": [
    {
     "data": {
      "text/plain": [
       "[3, 7, 3, 7]"
      ]
     },
     "execution_count": 24,
     "metadata": {},
     "output_type": "execute_result"
    }
   ],
   "source": [
    "def get_row_from_matrix(a,i): #O(1)\n",
    "    return a[i]\n",
    "\n",
    "def get_column_from_matrix(a,j): #O(n)\n",
    "    col=[]\n",
    "    for row in a:\n",
    "        col.append(row[j])\n",
    "    return col\n",
    "\n",
    "get_row_from_matrix(z,0)\n",
    "get_column_from_matrix(z,2) "
   ]
  },
  {
   "cell_type": "code",
   "execution_count": 27,
   "metadata": {},
   "outputs": [],
   "source": [
    "def matrix_multiply(m_1,m_2):     #O(m*n*p) p=sütun sayısı  #kare matris ise O(n^3)\n",
    "    m=len(m_1)    #1.nin satır sayısı\n",
    "    n=len(m_2[0]) #2.nin sütun sayısı\n",
    "    r=[]\n",
    "    for i in range(m):\n",
    "        r.append([])\n",
    "        for j in range(n):\n",
    "            a=get_row_from_matrix(m_1,i)\n",
    "            b=get_column_from_matrix(m_2,j)\n",
    "            c=get_value_from_row_col(a,b)\n",
    "            r[i].append(c)\n",
    "    return r"
   ]
  },
  {
   "cell_type": "code",
   "execution_count": 26,
   "metadata": {},
   "outputs": [
    {
     "data": {
      "text/plain": [
       "[[34, 44, 54, 64], [82, 108, 134, 160]]"
      ]
     },
     "execution_count": 26,
     "metadata": {},
     "output_type": "execute_result"
    }
   ],
   "source": [
    "matrix_multiply(v,z) #doğru sırada vermeye dikkat et"
   ]
  },
  {
   "cell_type": "code",
   "execution_count": null,
   "metadata": {},
   "outputs": [],
   "source": []
  }
 ],
 "metadata": {
  "kernelspec": {
   "display_name": "Python 3",
   "language": "python",
   "name": "python3"
  },
  "language_info": {
   "codemirror_mode": {
    "name": "ipython",
    "version": 3
   },
   "file_extension": ".py",
   "mimetype": "text/x-python",
   "name": "python",
   "nbconvert_exporter": "python",
   "pygments_lexer": "ipython3",
   "version": "3.6.7"
  }
 },
 "nbformat": 4,
 "nbformat_minor": 2
}
