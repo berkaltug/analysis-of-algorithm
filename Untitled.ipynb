{
 "cells": [
  {
   "cell_type": "code",
   "execution_count": 3,
   "metadata": {},
   "outputs": [],
   "source": [
    "def rec_fb(n,result):\n",
    "    if n<2:\n",
    "        return n\n",
    "    elif(result[n]!=0):\n",
    "        return result[n]\n",
    "    else:\n",
    "        result[n]=rec_fb(n-1,result)+rec_fb(n-2,result)\n",
    "        return result[n]\n",
    "    for i in range(13,25):\n",
    "        print(rec_fb(i,[0]*(i+1)),end=\" \")"
   ]
  },
  {
   "cell_type": "code",
   "execution_count": 9,
   "metadata": {},
   "outputs": [],
   "source": [
    "def recMC(coinValueList,change,knowResults):\n",
    "    minCoins=change\n",
    "    if(change in coinValueList):\n",
    "        knowResults[change]=1\n",
    "        return 1\n",
    "    else:\n",
    "        for i in[c for c in coinValueList if c<=change]:\n",
    "            numCoins=1+recMC(coinValueList,change-1,knowResults)\n",
    "            if(numCoins<minCoins):\n",
    "                minCoins=numCoins\n",
    "                knowResults[change]=minCoins\n",
    "        return minCoins\n",
    "    for i in range(8,20):\n",
    "        print(i,recMC([1,5,10,25,50],i,[0]*(i+1)))"
   ]
  },
  {
   "cell_type": "code",
   "execution_count": 10,
   "metadata": {},
   "outputs": [
    {
     "ename": "TypeError",
     "evalue": "rec_fb() missing 1 required positional argument: 'result'",
     "output_type": "error",
     "traceback": [
      "\u001b[0;31m---------------------------------------------------------------------------\u001b[0m",
      "\u001b[0;31mTypeError\u001b[0m                                 Traceback (most recent call last)",
      "\u001b[0;32m<ipython-input-10-e6f0b1b748ba>\u001b[0m in \u001b[0;36m<module>\u001b[0;34m\u001b[0m\n\u001b[0;32m----> 1\u001b[0;31m \u001b[0mrec_fb\u001b[0m\u001b[0;34m(\u001b[0m\u001b[0;36m12\u001b[0m\u001b[0;34m)\u001b[0m\u001b[0;34m\u001b[0m\u001b[0;34m\u001b[0m\u001b[0m\n\u001b[0m",
      "\u001b[0;31mTypeError\u001b[0m: rec_fb() missing 1 required positional argument: 'result'"
     ]
    }
   ],
   "source": []
  },
  {
   "cell_type": "code",
   "execution_count": null,
   "metadata": {},
   "outputs": [],
   "source": []
  }
 ],
 "metadata": {
  "kernelspec": {
   "display_name": "Python 3",
   "language": "python",
   "name": "python3"
  },
  "language_info": {
   "codemirror_mode": {
    "name": "ipython",
    "version": 3
   },
   "file_extension": ".py",
   "mimetype": "text/x-python",
   "name": "python",
   "nbconvert_exporter": "python",
   "pygments_lexer": "ipython3",
   "version": "3.6.7"
  }
 },
 "nbformat": 4,
 "nbformat_minor": 2
}
